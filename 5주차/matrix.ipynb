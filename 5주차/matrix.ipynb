{
 "cells": [
  {
   "cell_type": "code",
   "execution_count": 1,
   "metadata": {},
   "outputs": [],
   "source": [
    "dx = [-1, 1, 0, 0]\n",
    "dy = [0, 0, -1, 1]"
   ]
  },
  {
   "cell_type": "markdown",
   "metadata": {},
   "source": [
    "### BFS"
   ]
  },
  {
   "cell_type": "code",
   "execution_count": 5,
   "metadata": {},
   "outputs": [],
   "source": [
    "from collections import deque\n",
    "def bfs(grid, start):\n",
    "    n, m = len(grid), len(grid[0])\n",
    "    visited = [[False]*m for _ in range(n)]\n",
    "    queue = deque([start])\n",
    "    visited[start[0]][start[1]] = True\n",
    "\n",
    "    path = [start]  # 이동 경로\n",
    "\n",
    "    while queue:\n",
    "        x, y = queue.popleft()\n",
    "        for i in range(4):  # 상하좌우\n",
    "            nx, ny = x + dx[i], y + dy[i]\n",
    "            if 0 <= nx < n and 0 <= ny < m and not visited[nx][ny] and grid[nx][ny] == 0:\n",
    "                visited[nx][ny] = True\n",
    "                queue.append((nx, ny))\n",
    "                path.append((nx, ny))  # 이동 기록\n",
    "\n",
    "    return path\n"
   ]
  },
  {
   "cell_type": "code",
   "execution_count": 7,
   "metadata": {},
   "outputs": [
    {
     "data": {
      "text/plain": [
       "[(0, 0),\n",
       " (1, 0),\n",
       " (0, 1),\n",
       " (2, 0),\n",
       " (0, 2),\n",
       " (2, 1),\n",
       " (0, 3),\n",
       " (2, 2),\n",
       " (1, 3),\n",
       " (3, 2),\n",
       " (2, 3),\n",
       " (3, 3)]"
      ]
     },
     "execution_count": 7,
     "metadata": {},
     "output_type": "execute_result"
    }
   ],
   "source": [
    "grid = [\n",
    "    [0, 0, 0, 0],\n",
    "    [0, 1, 1, 0],\n",
    "    [0, 0, 0, 0],\n",
    "    [1, 1, 0, 0]\n",
    "]\n",
    "start = (0, 0)\n",
    "temp = bfs(grid, start)\n",
    "temp"
   ]
  },
  {
   "cell_type": "markdown",
   "metadata": {},
   "source": [
    "1. 시작점 (0, 0) → visited 처리, queue: [(0, 0)]\n",
    "\n",
    "2. (0, 0)에서 이동 가능한 곳 → (1, 0), (0, 1)\n",
    "   → visited 처리, queue: [(1, 0), (0, 1)]\n",
    "\n",
    "3. (1, 0)에서 이동 가능한 곳 → (2, 0)\n",
    "   → queue: [(0, 1), (2, 0)]\n",
    "\n",
    "4. (0, 1)에서 이동 가능한 곳 → (0, 2)\n",
    "   → queue: [(2, 0), (0, 2)]\n",
    "\n",
    "5. (2, 0)에서 이동 가능한 곳 → (2, 1)\n",
    "   → queue: [(0, 2), (2, 1)]\n",
    "\n",
    "6. (0, 2)에서 이동 가능한 곳 → (0, 3)\n",
    "   → queue: [(2, 1), (0, 3)]\n",
    "\n",
    "7. (2, 1)에서 이동 가능한 곳 → (2, 2)\n",
    "   → queue: [(0, 3), (2, 2)]\n",
    "\n",
    "8. (0, 3)에서 이동 가능한 곳 → (1, 3)\n",
    "   → queue: [(2, 2), (1, 3)]\n",
    "\n",
    "9. (2, 2)에서 이동 가능한 곳 → (3, 2)\n",
    "   → queue: [(1, 3), (3, 2)]\n",
    "\n",
    "10. (1, 3)에서 이동 가능한 곳 → (2, 3)\n",
    "    → queue: [(3, 2), (2, 3)]\n",
    "\n",
    "11. (3, 2)에서 이동 가능한 곳 → (3, 3)\n",
    "    → queue: [(2, 3), (3, 3)]\n",
    "\n",
    "12. (2, 3), (3, 3): 이미 마지막\n",
    "\n",
    "✅ BFS는 레벨 순서로 사방을 탐색 → **최단 거리** 계산에 유리\n"
   ]
  },
  {
   "cell_type": "markdown",
   "metadata": {},
   "source": [
    "DFS"
   ]
  },
  {
   "cell_type": "code",
   "execution_count": 9,
   "metadata": {},
   "outputs": [],
   "source": [
    "def dfs(grid, x, y, path):\n",
    "    if x < 0 or x >= len(grid) or y < 0 or y >= len(grid[0]) or grid[x][y] != '1':\n",
    "        return\n",
    "    grid[x][y] = '0'  # 방문 처리\n",
    "    path.append((x, y))  # 이동 기록 저장\n",
    "\n",
    "    for i in range(4):\n",
    "        dfs(grid, x + dx[i], y + dy[i], path)\n"
   ]
  },
  {
   "cell_type": "code",
   "execution_count": 12,
   "metadata": {},
   "outputs": [
    {
     "name": "stdout",
     "output_type": "stream",
     "text": [
      "DFS Path: [(0, 0), (1, 0), (2, 0), (2, 1), (2, 2), (1, 2), (0, 2), (0, 1)]\n"
     ]
    }
   ],
   "source": [
    "grid_dfs = [\n",
    "    ['1', '1', '1'],\n",
    "    ['1', '0', '1'],\n",
    "    ['1', '1', '1']\n",
    "]\n",
    "path_dfs = []\n",
    "dfs(grid_dfs, 0, 0, path_dfs)\n",
    "print(\"DFS Path:\", path_dfs)"
   ]
  },
  {
   "cell_type": "markdown",
   "metadata": {},
   "source": [
    "1. (0, 0) 방문 → '0' → 'X'\n",
    "2. 상: (-1, 0) → ❌ 범위 초과\n",
    "3. 하: (1, 0) → 방문 → 'X'\n",
    "4. 상: (0, 0) → 이미 방문 → ❌\n",
    "5. 하: (2, 0) → 방문 → 'X'\n",
    "6. 하: (3, 0) → grid[3][0] == 1 → ❌\n",
    "7. 우: (2, 1) → 방문 → 'X'\n",
    "8. 우: (2, 2) → 방문 → 'X'\n",
    "9. 하: (3, 2) → 방문 → 'X'\n",
    "10. 하: (4, 2) → ❌ 범위 초과\n",
    "11. 우: (3, 3) → 방문 → 'X'\n",
    "12. 이후 모든 방향은 방문하거나 벽 → 재귀 종료, backtrack\n",
    "\n",
    "✅ DFS는 **한 방향으로 끝까지** 파고들기 → **영역 탐색**에 유리\n"
   ]
  },
  {
   "cell_type": "code",
   "execution_count": null,
   "metadata": {},
   "outputs": [],
   "source": []
  }
 ],
 "metadata": {
  "kernelspec": {
   "display_name": "base",
   "language": "python",
   "name": "python3"
  },
  "language_info": {
   "codemirror_mode": {
    "name": "ipython",
    "version": 3
   },
   "file_extension": ".py",
   "mimetype": "text/x-python",
   "name": "python",
   "nbconvert_exporter": "python",
   "pygments_lexer": "ipython3",
   "version": "3.11.7"
  }
 },
 "nbformat": 4,
 "nbformat_minor": 2
}
