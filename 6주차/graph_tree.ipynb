{
 "cells": [
  {
   "cell_type": "markdown",
   "metadata": {},
   "source": [
    "Dijkstra"
   ]
  },
  {
   "cell_type": "code",
   "execution_count": 3,
   "metadata": {},
   "outputs": [
    {
     "name": "stdout",
     "output_type": "stream",
     "text": [
      "{0: 0, 1: 3, 2: 1, 3: 4}\n"
     ]
    }
   ],
   "source": [
    "import heapq\n",
    "\n",
    "def dijkstra(graph, start):\n",
    "    distance = {node: float('inf') for node in graph}\n",
    "    distance[start] = 0\n",
    "    heap = [(0, start)]  # (거리, 노드)\n",
    "\n",
    "    while heap:\n",
    "        dist, now = heapq.heappop(heap)\n",
    "        if dist > distance[now]:\n",
    "            continue\n",
    "        for neighbor, weight in graph[now]:\n",
    "            cost = dist + weight\n",
    "            if cost < distance[neighbor]:\n",
    "                distance[neighbor] = cost\n",
    "                heapq.heappush(heap, (cost, neighbor))\n",
    "    \n",
    "    return distance\n",
    "\n",
    "graph = {\n",
    "    0: [(1, 4), (2, 1)],\n",
    "    1: [(3, 1)],\n",
    "    2: [(1, 2), (3, 5)],\n",
    "    3: []\n",
    "}\n",
    "print(dijkstra(graph, 0))\n"
   ]
  },
  {
   "cell_type": "markdown",
   "metadata": {},
   "source": [
    "| 현재 정점 | 누적 거리 | 다음 업데이트 거리      |\n",
    "|-----------|-----------|--------------------------|\n",
    "| 0         | 0         | 1 → 4, 2 → 1             |\n",
    "| 2         | 1         | 1 → 3, 3 → 6             |\n",
    "| 1         | 3         | 3 → 4                    |\n",
    "| 3         | 4         | 완료                     |\n"
   ]
  },
  {
   "cell_type": "markdown",
   "metadata": {},
   "source": [
    "Kruskal"
   ]
  },
  {
   "cell_type": "code",
   "execution_count": 4,
   "metadata": {},
   "outputs": [
    {
     "name": "stdout",
     "output_type": "stream",
     "text": [
      "(4, [(0, 2, 1), (1, 3, 1), (2, 1, 2)])\n"
     ]
    }
   ],
   "source": [
    "def find(parent, x):\n",
    "    if parent[x] != x:\n",
    "        parent[x] = find(parent, parent[x])\n",
    "    return parent[x]\n",
    "\n",
    "def union(parent, a, b):\n",
    "    rootA = find(parent, a)\n",
    "    rootB = find(parent, b)\n",
    "    if rootA < rootB:\n",
    "        parent[rootB] = rootA\n",
    "    else:\n",
    "        parent[rootA] = rootB\n",
    "\n",
    "def kruskal(n, edges):\n",
    "    edges.sort(key=lambda x: x[2])\n",
    "    parent = list(range(n))\n",
    "    mst_cost = 0\n",
    "    mst_edges = []\n",
    "\n",
    "    for u, v, cost in edges:\n",
    "        if find(parent, u) != find(parent, v):\n",
    "            union(parent, u, v)\n",
    "            mst_cost += cost\n",
    "            mst_edges.append((u, v, cost))\n",
    "    \n",
    "    return mst_cost, mst_edges\n",
    "\n",
    "edges = [\n",
    "    (0, 1, 4),\n",
    "    (0, 2, 1),\n",
    "    (2, 1, 2),\n",
    "    (1, 3, 1),\n",
    "    (2, 3, 5)\n",
    "]\n",
    "\n",
    "print(kruskal(4, edges))"
   ]
  },
  {
   "cell_type": "markdown",
   "metadata": {},
   "source": [
    "## Kruskal 알고리즘 과정\n",
    "\n",
    "### 1. 간선 정렬 (비용 오름차순)\n",
    "| 간선     | 비용 |\n",
    "|----------|------|\n",
    "| (0,2)    | 1    |\n",
    "| (1,3)    | 1    |\n",
    "| (2,1)    | 2    |\n",
    "| (0,1)    | 4    |\n",
    "| (2,3)    | 5    |\n",
    "\n",
    "### 2. 하나씩 연결 (사이클 없는 경우만 선택)\n",
    "선택된 간선:\n",
    "- (0 - 2)\n",
    "- (1 - 3)\n",
    "- (1 - 2)\n",
    "\n",
    "✅ **사이클 없이 모든 정점을 연결 → MST 완성**\n"
   ]
  },
  {
   "cell_type": "markdown",
   "metadata": {},
   "source": [
    "-------"
   ]
  },
  {
   "cell_type": "markdown",
   "metadata": {},
   "source": [
    "| 항목       | Dijkstra                     | Kruskal                          |\n",
    "|------------|------------------------------|----------------------------------|\n",
    "| 목적       | 최단 거리                    | 최소 신장 트리                   |\n",
    "| 대상       | 하나의 시작점 → 모든 정점    | 전체 정점 연결 (트리)            |\n",
    "| 특징       | 방향/가중치 O, 사이클 O      | 무방향, 사이클 X                 |\n",
    "| 알고리즘   | 우선순위 큐                  | Union-Find, 정렬                 |\n",
    "| 시간복잡도 | O(E log V)                   | O(E log E)                       |\n"
   ]
  },
  {
   "cell_type": "markdown",
   "metadata": {},
   "source": []
  }
 ],
 "metadata": {
  "kernelspec": {
   "display_name": "base",
   "language": "python",
   "name": "python3"
  },
  "language_info": {
   "codemirror_mode": {
    "name": "ipython",
    "version": 3
   },
   "file_extension": ".py",
   "mimetype": "text/x-python",
   "name": "python",
   "nbconvert_exporter": "python",
   "pygments_lexer": "ipython3",
   "version": "3.11.7"
  }
 },
 "nbformat": 4,
 "nbformat_minor": 2
}
