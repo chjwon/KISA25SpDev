{
 "cells": [
  {
   "cell_type": "code",
   "execution_count": 3,
   "metadata": {},
   "outputs": [],
   "source": [
    "class UnionFind:\n",
    "    def __init__(self, n):\n",
    "        self.parent = list(range(n))\n",
    "\n",
    "    def find(self, x):\n",
    "        if self.parent[x] != x:\n",
    "            self.parent[x] = self.find(self.parent[x])\n",
    "        return self.parent[x]\n",
    "\n",
    "    def union(self, a, b):\n",
    "        rootA, rootB = self.find(a), self.find(b)\n",
    "        if rootA != rootB:\n",
    "            self.parent[rootB] = rootA"
   ]
  },
  {
   "cell_type": "code",
   "execution_count": 4,
   "metadata": {},
   "outputs": [],
   "source": [
    "def kruskal(n, edges):\n",
    "    edges.sort(key=lambda x: x[2])  # 비용 기준 정렬\n",
    "    uf = UnionFind(n)\n",
    "    mst_cost = 0\n",
    "    mst_edges = []\n",
    "\n",
    "    for u, v, cost in edges:\n",
    "        if uf.find(u) != uf.find(v):  # 사이클 방지\n",
    "            uf.union(u, v)\n",
    "            mst_cost += cost\n",
    "            mst_edges.append((u, v, cost))\n",
    "\n",
    "    return mst_cost, mst_edges"
   ]
  },
  {
   "cell_type": "code",
   "execution_count": 5,
   "metadata": {},
   "outputs": [
    {
     "name": "stdout",
     "output_type": "stream",
     "text": [
      "MST Cost: 15\n",
      "MST Edges: [(1, 2, 5), (0, 1, 10)]\n"
     ]
    }
   ],
   "source": [
    "edges = [(0, 1, 10), (0, 2, 20), (1, 2, 5)]\n",
    "mst_cost, mst_edges = kruskal(3, edges)\n",
    "print(\"MST Cost:\", mst_cost)  # 15\n",
    "print(\"MST Edges:\", mst_edges) # [(1, 2, 5), (0, 1, 10)]"
   ]
  },
  {
   "cell_type": "code",
   "execution_count": null,
   "metadata": {},
   "outputs": [],
   "source": []
  }
 ],
 "metadata": {
  "kernelspec": {
   "display_name": "base",
   "language": "python",
   "name": "python3"
  },
  "language_info": {
   "codemirror_mode": {
    "name": "ipython",
    "version": 3
   },
   "file_extension": ".py",
   "mimetype": "text/x-python",
   "name": "python",
   "nbconvert_exporter": "python",
   "pygments_lexer": "ipython3",
   "version": "3.11.7"
  }
 },
 "nbformat": 4,
 "nbformat_minor": 2
}
