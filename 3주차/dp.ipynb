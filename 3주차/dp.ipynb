{
 "cells": [
  {
   "cell_type": "markdown",
   "metadata": {},
   "source": [
    "## 1. Top-Down (재귀 활용)"
   ]
  },
  {
   "cell_type": "code",
   "execution_count": 1,
   "metadata": {},
   "outputs": [],
   "source": [
    "def fib(n, memo={}):\n",
    "    if n in memo:\n",
    "        return memo[n]\n",
    "    if n <= 1:\n",
    "        return n\n",
    "    memo[n] = fib(n-1, memo) + fib(n-2, memo)\n",
    "    return memo[n]"
   ]
  },
  {
   "cell_type": "code",
   "execution_count": 2,
   "metadata": {},
   "outputs": [
    {
     "name": "stdout",
     "output_type": "stream",
     "text": [
      "55\n"
     ]
    }
   ],
   "source": [
    "print(fib(10))\n"
   ]
  },
  {
   "cell_type": "markdown",
   "metadata": {},
   "source": [
    "## 2. Bottom-Up (loop + table)"
   ]
  },
  {
   "cell_type": "code",
   "execution_count": 3,
   "metadata": {},
   "outputs": [],
   "source": [
    "def fib(n):\n",
    "    dp = [0] * (n + 1)\n",
    "    dp[1] = 1\n",
    "    for i in range(2, n + 1):\n",
    "        dp[i] = dp[i - 1] + dp[i - 2]\n",
    "    return dp[n]"
   ]
  },
  {
   "cell_type": "code",
   "execution_count": 4,
   "metadata": {},
   "outputs": [
    {
     "name": "stdout",
     "output_type": "stream",
     "text": [
      "55\n"
     ]
    }
   ],
   "source": [
    "print(fib(10))\n"
   ]
  },
  {
   "cell_type": "markdown",
   "metadata": {},
   "source": [
    "## 3. Space Optimization"
   ]
  },
  {
   "cell_type": "code",
   "execution_count": 5,
   "metadata": {},
   "outputs": [],
   "source": [
    "def fib(n):\n",
    "    a, b = 0, 1\n",
    "    for _ in range(n):\n",
    "        a, b = b, a + b\n",
    "    return a"
   ]
  },
  {
   "cell_type": "code",
   "execution_count": 6,
   "metadata": {},
   "outputs": [
    {
     "name": "stdout",
     "output_type": "stream",
     "text": [
      "55\n"
     ]
    }
   ],
   "source": [
    "print(fib(10))"
   ]
  },
  {
   "cell_type": "markdown",
   "metadata": {},
   "source": [
    "## 4. Bitmasking DP\n",
    "예시 : 어떤 도시 N개가 있고, 한 도시에서 출발하여 모든 도시를 한 번씩 방문한 후 다시 출발 도시로 돌아와야 함. \n",
    "\n",
    "각 도시 간 이동 비용(거리)이 주어졌을 때, 최소 비용으로 모든 도시를 방문하는 경로를 찾는 문제.\n",
    "\n",
    "Brute Force 사용시 O(n!), Bitmasking의 경우 O(2^n * n)으로 최적화"
   ]
  },
  {
   "cell_type": "code",
   "execution_count": 7,
   "metadata": {},
   "outputs": [],
   "source": [
    "INF = float('inf')\n",
    "\n",
    "def tsp(mask, pos, dp, dist, n):\n",
    "    if mask == (1 << n) - 1:  # 모든 도시 방문 완료\n",
    "        return dist[pos][0]  # 시작점으로 돌아감\n",
    "\n",
    "    if dp[mask][pos] != -1:\n",
    "        return dp[mask][pos]\n",
    "\n",
    "    ans = INF\n",
    "    for city in range(n):\n",
    "        if (mask & (1 << city)) == 0:  # 아직 방문하지 않은 도시라면\n",
    "            ans = min(ans, dist[pos][city] + tsp(mask | (1 << city), city, dp, dist, n))\n",
    "\n",
    "    dp[mask][pos] = ans\n",
    "    return ans\n"
   ]
  },
  {
   "cell_type": "markdown",
   "metadata": {},
   "source": [
    "## 5. Linear DP\n",
    "예시 : 계단 오르기 문제 (1칸 or 2칸씩 오를 수 있음)"
   ]
  },
  {
   "cell_type": "code",
   "execution_count": 8,
   "metadata": {},
   "outputs": [],
   "source": [
    "def climb_stairs(n):\n",
    "    if n <= 2:\n",
    "        return n\n",
    "    a, b = 1, 2\n",
    "    for _ in range(3, n + 1):\n",
    "        a, b = b, a + b\n",
    "    return b"
   ]
  },
  {
   "cell_type": "code",
   "execution_count": 9,
   "metadata": {},
   "outputs": [
    {
     "name": "stdout",
     "output_type": "stream",
     "text": [
      "8\n"
     ]
    }
   ],
   "source": [
    "\"\"\"\n",
    "n=5\n",
    "1+1+1+1+1 - 1\n",
    "1+1+1+2 - 4\n",
    "1+2+2 -3\n",
    "\"\"\"\n",
    "print(climb_stairs(5))"
   ]
  },
  {
   "cell_type": "markdown",
   "metadata": {},
   "source": [
    "## 6. 2D DP\n",
    "예시 : LCS 문제 [ 두 개의 문자열이 주어졌을 때, 순서를 유지하면서 공통으로 존재하는 가장 긴 부분 수열의 길이를 찾기 ]\n",
    "\n",
    "Time complex : O(mn) m, n은 각각 s1, s2의 길이"
   ]
  },
  {
   "cell_type": "code",
   "execution_count": 10,
   "metadata": {},
   "outputs": [],
   "source": [
    "def lcs(s1, s2):\n",
    "    dp = [[0] * (len(s2) + 1) for _ in range(len(s1) + 1)]\n",
    "    for i in range(1, len(s1) + 1):\n",
    "        for j in range(1, len(s2) + 1):\n",
    "            if s1[i - 1] == s2[j - 1]:\n",
    "                dp[i][j] = dp[i - 1][j - 1] + 1\n",
    "            else:\n",
    "                dp[i][j] = max(dp[i - 1][j], dp[i][j - 1])\n",
    "    return dp[-1][-1]"
   ]
  },
  {
   "cell_type": "code",
   "execution_count": 11,
   "metadata": {},
   "outputs": [
    {
     "name": "stdout",
     "output_type": "stream",
     "text": [
      "2\n"
     ]
    }
   ],
   "source": [
    "print(lcs(\"abcde\", \"acb\")) # ac or ab"
   ]
  },
  {
   "cell_type": "markdown",
   "metadata": {},
   "source": [
    "## 7. knapsack DP\n",
    "예시 : 각 element가 price와 value가 있다고 할때 최대 price가 있고, 최대 value의 해를 구할떄"
   ]
  },
  {
   "cell_type": "code",
   "execution_count": 12,
   "metadata": {},
   "outputs": [],
   "source": [
    "\"\"\"\n",
    "Time complex O(N*P), N은 아이템 갯수, P은 최대 price\n",
    "\"\"\"\n",
    "\n",
    "def knapsack(prices, values, P):\n",
    "    n = len(prices)\n",
    "    dp = [[0] * (P + 1) for _ in range(n + 1)]\n",
    "\n",
    "    for i in range(1, n + 1):\n",
    "        for w in range(P + 1):\n",
    "            if prices[i - 1] <= w:\n",
    "                dp[i][w] = max(dp[i - 1][w], dp[i - 1][w - prices[i - 1]] + values[i - 1])\n",
    "            else:\n",
    "                dp[i][w] = dp[i - 1][w]\n",
    "\n",
    "    return dp[n][P]"
   ]
  },
  {
   "cell_type": "code",
   "execution_count": 13,
   "metadata": {},
   "outputs": [
    {
     "name": "stdout",
     "output_type": "stream",
     "text": [
      "8\n"
     ]
    }
   ],
   "source": [
    "\"\"\"\n",
    "element1 (2,3) *\n",
    "element2 (3,4)\n",
    "element3 (4,5) *\n",
    "\"\"\"\n",
    "print(knapsack([2, 3, 4], [3, 4, 5], 6))\n"
   ]
  },
  {
   "cell_type": "markdown",
   "metadata": {},
   "source": [
    "## 8. path DP (Floyd-Warshall)\n",
    "\n",
    "https://www.notion.so/Floyd-Warshall-15687acc5e3880cb9af5f9ae23477ec0?pvs=4"
   ]
  },
  {
   "cell_type": "code",
   "execution_count": 14,
   "metadata": {},
   "outputs": [
    {
     "name": "stdout",
     "output_type": "stream",
     "text": [
      "[[0, 3, inf], [2, 0, inf], [9, 7, 0]]\n"
     ]
    }
   ],
   "source": [
    "INF = float('inf')\n",
    "\n",
    "def floyd_warshall(graph):\n",
    "    n = len(graph)\n",
    "    for k in range(n):\n",
    "        for i in range(n):\n",
    "            for j in range(n):\n",
    "                graph[i][j] = min(graph[i][j], graph[i][k] + graph[k][j])\n",
    "\n",
    "graph = [[0, 3, INF], [2, 0, INF], [INF, 7, 0]]\n",
    "floyd_warshall(graph)\n",
    "print(graph)\n"
   ]
  },
  {
   "cell_type": "markdown",
   "metadata": {},
   "source": [
    "## 9. String DP\n",
    "예시 : 두 문자열 s1, s2가 있을때, s1 -> s2로 변환하는 최소 편집 거리(insert, delete, convert 이용)"
   ]
  },
  {
   "cell_type": "code",
   "execution_count": 15,
   "metadata": {},
   "outputs": [],
   "source": [
    "\"\"\"\n",
    "Time complex O(mn) m,n은 s1,s2의 길이\n",
    "\"\"\"\n",
    "def edit_distance(s1, s2):\n",
    "    dp = [[0] * (len(s2) + 1) for _ in range(len(s1) + 1)]\n",
    "    for i in range(len(s1) + 1):\n",
    "        for j in range(len(s2) + 1):\n",
    "            if i == 0:\n",
    "                dp[i][j] = j\n",
    "            elif j == 0:\n",
    "                dp[i][j] = i\n",
    "            elif s1[i - 1] == s2[j - 1]:\n",
    "                dp[i][j] = dp[i - 1][j - 1]\n",
    "            else:\n",
    "                dp[i][j] = 1 + min(dp[i - 1][j], dp[i][j - 1], dp[i - 1][j - 1])\n",
    "    return dp[-1][-1]"
   ]
  },
  {
   "cell_type": "code",
   "execution_count": 16,
   "metadata": {},
   "outputs": [
    {
     "name": "stdout",
     "output_type": "stream",
     "text": [
      "3\n"
     ]
    }
   ],
   "source": [
    "\"\"\"\n",
    "horse -> orse -> rse -> ros\n",
    "\"\"\"\n",
    "print(edit_distance(\"horse\", \"ros\"))\n"
   ]
  },
  {
   "cell_type": "markdown",
   "metadata": {},
   "source": [
    "## 10. Subsequence DP\n",
    "예시 : LIS, 수열에서 순서 유지하면서 ascending order subset 찾기기"
   ]
  },
  {
   "cell_type": "code",
   "execution_count": 17,
   "metadata": {},
   "outputs": [],
   "source": [
    "\"\"\"\n",
    "일반 DP\n",
    "O(n^2)\n",
    "\"\"\"\n",
    "def lis(arr):\n",
    "    n = len(arr)\n",
    "    dp = [1] * n\n",
    "\n",
    "    for i in range(1, n):\n",
    "        for j in range(i):\n",
    "            if arr[i] > arr[j]:\n",
    "                dp[i] = max(dp[i], dp[j] + 1)\n",
    "    return max(dp)"
   ]
  },
  {
   "cell_type": "code",
   "execution_count": 18,
   "metadata": {},
   "outputs": [
    {
     "name": "stdout",
     "output_type": "stream",
     "text": [
      "4\n"
     ]
    }
   ],
   "source": [
    "\"\"\"\n",
    "[2,3,7,101]\n",
    "\"\"\"\n",
    "print(lis([10, 9, 2, 5, 3, 7, 101, 18]))"
   ]
  },
  {
   "cell_type": "code",
   "execution_count": 19,
   "metadata": {},
   "outputs": [],
   "source": [
    "\"\"\"\n",
    "binary search + DP\n",
    "O(n log n)\n",
    "\"\"\"\n",
    "from bisect import bisect_left\n",
    "\n",
    "def lis(arr):\n",
    "    subseq = []\n",
    "\n",
    "    for num in arr:\n",
    "        pos = bisect_left(subseq, num)\n",
    "        if pos == len(subseq):\n",
    "            subseq.append(num)\n",
    "        else:\n",
    "            subseq[pos] = num\n",
    "    return len(subseq)"
   ]
  },
  {
   "cell_type": "code",
   "execution_count": 20,
   "metadata": {},
   "outputs": [
    {
     "name": "stdout",
     "output_type": "stream",
     "text": [
      "4\n"
     ]
    }
   ],
   "source": [
    "print(lis([10, 9, 2, 5, 3, 7, 101, 18]))"
   ]
  }
 ],
 "metadata": {
  "kernelspec": {
   "display_name": "base",
   "language": "python",
   "name": "python3"
  },
  "language_info": {
   "codemirror_mode": {
    "name": "ipython",
    "version": 3
   },
   "file_extension": ".py",
   "mimetype": "text/x-python",
   "name": "python",
   "nbconvert_exporter": "python",
   "pygments_lexer": "ipython3",
   "version": "3.11.7"
  }
 },
 "nbformat": 4,
 "nbformat_minor": 2
}
